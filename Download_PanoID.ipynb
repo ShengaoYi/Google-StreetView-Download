{
  "nbformat": 4,
  "nbformat_minor": 0,
  "metadata": {
    "colab": {
      "provenance": []
    },
    "kernelspec": {
      "name": "python3",
      "display_name": "Python 3"
    },
    "language_info": {
      "name": "python"
    },
    "gpuClass": "standard"
  },
  "cells": [
    {
      "cell_type": "code",
      "execution_count": null,
      "metadata": {
        "id": "2pvU9N0D-Z9z"
      },
      "outputs": [],
      "source": [
        "!pip install git+https://github.com/robolyst/streetview"
      ]
    },
    {
      "cell_type": "markdown",
      "source": [
        "# Get ids"
      ],
      "metadata": {
        "id": "gIbT8dNaLrfU"
      }
    },
    {
      "cell_type": "code",
      "source": [
        "from streetview import search_panoramas\n",
        "\n",
        "path = r'NY_points.csv'\n",
        "\n",
        "fw = open(r'NY_pid.csv', 'a', encoding='utf-8')\n",
        "fw.write('pid,lat,lon,heading,pitch,roll,year,month\\n')\n",
        "\n",
        "# check_already\n",
        "ALL_ID = []\n",
        "\n",
        "# To prevent duplicate downloads\n",
        "with open('NY_pid_got.csv', 'r', encoding='utf-8') as f:\n",
        "  for line in f:\n",
        "    ALL_ID.append(line.strip().split(\".\")[0])\n",
        "\n",
        "\n",
        "ALL_DATA = []\n",
        "\n",
        "n = 0\n",
        "\n",
        "with open(path, 'r') as f:\n",
        "    next(f)\n",
        "    for line in f:\n",
        "        n += 1\n",
        "        print(n)\n",
        "        line_arr = line.strip().split(',')\n",
        "        xy = [float(line_arr[1]), float(line_arr[2])]\n",
        "        panoids = search_panoramas(xy[1], xy[0])\n",
        "        \n",
        "        for panoid in panoids:\n",
        "            try:\n",
        "                xy = [panoid.lon, panoid.lat]\n",
        "                lat = panoid.lat\n",
        "                lon = panoid.lon\n",
        "                pid = panoid.pano_id\n",
        "                heading = panoid.heading\n",
        "                pitch = panoid.pitch\n",
        "                roll = panoid.roll\n",
        "                date = panoid.date\n",
        "                if pid in ALL_ID:\n",
        "                    continue\n",
        "                else:\n",
        "                    ALL_ID.append(pid)\n",
        "                    try:\n",
        "                        year = date.split('-')[0]\n",
        "                        month = date.split('-')[1]\n",
        "                    except:\n",
        "                        year = \"None\"\n",
        "                        month = \"None\"\n",
        "                    fw.write('%s,%s,%s,%s,%s,%s,%s,%s\\n' % (pid, lat, lon, heading, pitch, roll, year, month))\n",
        "                    fw2 = open('NY_pid_got.csv', 'a', encoding='utf-8')\n",
        "                    fw2.write(pid + '\\n')\n",
        "\n",
        "            except:\n",
        "                print('error')\n",
        "                continue"
      ],
      "metadata": {
        "id": "S3kj5DxV_nub"
      },
      "execution_count": null,
      "outputs": []
    }
  ]
}